{
 "cells": [
  {
   "cell_type": "markdown",
   "id": "b19a0468",
   "metadata": {},
   "source": [
    "This code is adapted from https://github.com/ZhaozhiQIAN/D-CODE-ICLR-2022/"
   ]
  },
  {
   "cell_type": "code",
   "execution_count": 1,
   "id": "95016770",
   "metadata": {},
   "outputs": [],
   "source": [
    "import pandas as pds\n",
    "import matplotlib.pyplot as plt\n",
    "import numpy as np\n",
    "from scipy.interpolate import CubicSpline, interp1d\n",
    "from scipy.linalg import svd"
   ]
  },
  {
   "cell_type": "code",
   "execution_count": 2,
   "id": "d66fcc5d",
   "metadata": {},
   "outputs": [],
   "source": [
    "file_list = [\n",
    "    \"input celgene09.csv\",\n",
    "    \"input centoco06.csv\",\n",
    "    \"input cougar06.csv\",\n",
    "    \"input novacea06.csv\",\n",
    "    \"input pfizer08.csv\",\n",
    "    \"input sanfi00.csv\",\n",
    "    \"input sanofi79.csv\",\n",
    "    \"inputS83OFF.csv\",\n",
    "    \"inputS83ON.csv\",\n",
    "]"
   ]
  },
  {
   "cell_type": "code",
   "execution_count": 4,
   "id": "f71da28b",
   "metadata": {},
   "outputs": [],
   "source": [
    "df_list = list()\n",
    "for f in file_list:\n",
    "    df = pds.read_csv(\"data/tumor/\" + f)\n",
    "    df[\"name\"] = df[\"name\"].astype(str) + f\n",
    "    df_list.append(df)\n",
    "\n",
    "df = pds.concat(df_list)"
   ]
  },
  {
   "cell_type": "code",
   "execution_count": 5,
   "id": "041b5798",
   "metadata": {},
   "outputs": [
    {
     "data": {
      "text/html": [
       "<div>\n",
       "<style scoped>\n",
       "    .dataframe tbody tr th:only-of-type {\n",
       "        vertical-align: middle;\n",
       "    }\n",
       "\n",
       "    .dataframe tbody tr th {\n",
       "        vertical-align: top;\n",
       "    }\n",
       "\n",
       "    .dataframe thead th {\n",
       "        text-align: right;\n",
       "    }\n",
       "</style>\n",
       "<table border=\"1\" class=\"dataframe\">\n",
       "  <thead>\n",
       "    <tr style=\"text-align: right;\">\n",
       "      <th></th>\n",
       "      <th>name</th>\n",
       "      <th>date</th>\n",
       "      <th>size</th>\n",
       "    </tr>\n",
       "  </thead>\n",
       "  <tbody>\n",
       "    <tr>\n",
       "      <th>0</th>\n",
       "      <td>1input celgene09.csv</td>\n",
       "      <td>11.0</td>\n",
       "      <td>45.2</td>\n",
       "    </tr>\n",
       "    <tr>\n",
       "      <th>1</th>\n",
       "      <td>1input celgene09.csv</td>\n",
       "      <td>35.0</td>\n",
       "      <td>69.0</td>\n",
       "    </tr>\n",
       "    <tr>\n",
       "      <th>2</th>\n",
       "      <td>1input celgene09.csv</td>\n",
       "      <td>58.0</td>\n",
       "      <td>74.9</td>\n",
       "    </tr>\n",
       "    <tr>\n",
       "      <th>3</th>\n",
       "      <td>1input celgene09.csv</td>\n",
       "      <td>79.0</td>\n",
       "      <td>58.4</td>\n",
       "    </tr>\n",
       "    <tr>\n",
       "      <th>4</th>\n",
       "      <td>1input celgene09.csv</td>\n",
       "      <td>86.0</td>\n",
       "      <td>59.9</td>\n",
       "    </tr>\n",
       "  </tbody>\n",
       "</table>\n",
       "</div>"
      ],
      "text/plain": [
       "                   name  date  size\n",
       "0  1input celgene09.csv  11.0  45.2\n",
       "1  1input celgene09.csv  35.0  69.0\n",
       "2  1input celgene09.csv  58.0  74.9\n",
       "3  1input celgene09.csv  79.0  58.4\n",
       "4  1input celgene09.csv  86.0  59.9"
      ]
     },
     "execution_count": 5,
     "metadata": {},
     "output_type": "execute_result"
    }
   ],
   "source": [
    "df.head()"
   ]
  },
  {
   "cell_type": "code",
   "execution_count": 6,
   "id": "a6cf6f14",
   "metadata": {},
   "outputs": [],
   "source": [
    "df_wide = pds.pivot_table(df, values=\"size\", index=\"name\", columns=\"date\")"
   ]
  },
  {
   "cell_type": "code",
   "execution_count": 7,
   "id": "99b182f6",
   "metadata": {},
   "outputs": [
    {
     "data": {
      "text/plain": [
       "(3216, 975)"
      ]
     },
     "execution_count": 7,
     "metadata": {},
     "output_type": "execute_result"
    }
   ],
   "source": [
    "df_wide.shape"
   ]
  },
  {
   "cell_type": "code",
   "execution_count": 8,
   "id": "073fb657",
   "metadata": {},
   "outputs": [
    {
     "data": {
      "text/html": [
       "<div>\n",
       "<style scoped>\n",
       "    .dataframe tbody tr th:only-of-type {\n",
       "        vertical-align: middle;\n",
       "    }\n",
       "\n",
       "    .dataframe tbody tr th {\n",
       "        vertical-align: top;\n",
       "    }\n",
       "\n",
       "    .dataframe thead th {\n",
       "        text-align: right;\n",
       "    }\n",
       "</style>\n",
       "<table border=\"1\" class=\"dataframe\">\n",
       "  <thead>\n",
       "    <tr style=\"text-align: right;\">\n",
       "      <th>date</th>\n",
       "      <th>1.0</th>\n",
       "      <th>2.0</th>\n",
       "      <th>3.0</th>\n",
       "      <th>4.0</th>\n",
       "      <th>5.0</th>\n",
       "      <th>6.0</th>\n",
       "      <th>7.0</th>\n",
       "      <th>8.0</th>\n",
       "      <th>9.0</th>\n",
       "      <th>10.0</th>\n",
       "      <th>...</th>\n",
       "      <th>1267.0</th>\n",
       "      <th>1287.0</th>\n",
       "      <th>1298.0</th>\n",
       "      <th>1313.0</th>\n",
       "      <th>1321.0</th>\n",
       "      <th>1337.0</th>\n",
       "      <th>1349.0</th>\n",
       "      <th>1354.0</th>\n",
       "      <th>1411.0</th>\n",
       "      <th>1475.0</th>\n",
       "    </tr>\n",
       "    <tr>\n",
       "      <th>name</th>\n",
       "      <th></th>\n",
       "      <th></th>\n",
       "      <th></th>\n",
       "      <th></th>\n",
       "      <th></th>\n",
       "      <th></th>\n",
       "      <th></th>\n",
       "      <th></th>\n",
       "      <th></th>\n",
       "      <th></th>\n",
       "      <th></th>\n",
       "      <th></th>\n",
       "      <th></th>\n",
       "      <th></th>\n",
       "      <th></th>\n",
       "      <th></th>\n",
       "      <th></th>\n",
       "      <th></th>\n",
       "      <th></th>\n",
       "      <th></th>\n",
       "      <th></th>\n",
       "    </tr>\n",
       "  </thead>\n",
       "  <tbody>\n",
       "    <tr>\n",
       "      <th>10003input novacea06.csv</th>\n",
       "      <td>NaN</td>\n",
       "      <td>NaN</td>\n",
       "      <td>NaN</td>\n",
       "      <td>NaN</td>\n",
       "      <td>NaN</td>\n",
       "      <td>NaN</td>\n",
       "      <td>NaN</td>\n",
       "      <td>NaN</td>\n",
       "      <td>NaN</td>\n",
       "      <td>NaN</td>\n",
       "      <td>...</td>\n",
       "      <td>NaN</td>\n",
       "      <td>NaN</td>\n",
       "      <td>NaN</td>\n",
       "      <td>NaN</td>\n",
       "      <td>NaN</td>\n",
       "      <td>NaN</td>\n",
       "      <td>NaN</td>\n",
       "      <td>NaN</td>\n",
       "      <td>NaN</td>\n",
       "      <td>NaN</td>\n",
       "    </tr>\n",
       "    <tr>\n",
       "      <th>10004input novacea06.csv</th>\n",
       "      <td>NaN</td>\n",
       "      <td>NaN</td>\n",
       "      <td>NaN</td>\n",
       "      <td>NaN</td>\n",
       "      <td>NaN</td>\n",
       "      <td>30.79</td>\n",
       "      <td>NaN</td>\n",
       "      <td>NaN</td>\n",
       "      <td>NaN</td>\n",
       "      <td>NaN</td>\n",
       "      <td>...</td>\n",
       "      <td>NaN</td>\n",
       "      <td>NaN</td>\n",
       "      <td>NaN</td>\n",
       "      <td>NaN</td>\n",
       "      <td>NaN</td>\n",
       "      <td>NaN</td>\n",
       "      <td>NaN</td>\n",
       "      <td>NaN</td>\n",
       "      <td>NaN</td>\n",
       "      <td>NaN</td>\n",
       "    </tr>\n",
       "    <tr>\n",
       "      <th>10005input novacea06.csv</th>\n",
       "      <td>NaN</td>\n",
       "      <td>NaN</td>\n",
       "      <td>NaN</td>\n",
       "      <td>NaN</td>\n",
       "      <td>NaN</td>\n",
       "      <td>NaN</td>\n",
       "      <td>NaN</td>\n",
       "      <td>NaN</td>\n",
       "      <td>NaN</td>\n",
       "      <td>NaN</td>\n",
       "      <td>...</td>\n",
       "      <td>NaN</td>\n",
       "      <td>NaN</td>\n",
       "      <td>NaN</td>\n",
       "      <td>NaN</td>\n",
       "      <td>NaN</td>\n",
       "      <td>NaN</td>\n",
       "      <td>NaN</td>\n",
       "      <td>NaN</td>\n",
       "      <td>NaN</td>\n",
       "      <td>NaN</td>\n",
       "    </tr>\n",
       "    <tr>\n",
       "      <th>10008input novacea06.csv</th>\n",
       "      <td>NaN</td>\n",
       "      <td>NaN</td>\n",
       "      <td>NaN</td>\n",
       "      <td>NaN</td>\n",
       "      <td>NaN</td>\n",
       "      <td>NaN</td>\n",
       "      <td>NaN</td>\n",
       "      <td>NaN</td>\n",
       "      <td>NaN</td>\n",
       "      <td>NaN</td>\n",
       "      <td>...</td>\n",
       "      <td>NaN</td>\n",
       "      <td>NaN</td>\n",
       "      <td>NaN</td>\n",
       "      <td>NaN</td>\n",
       "      <td>NaN</td>\n",
       "      <td>NaN</td>\n",
       "      <td>NaN</td>\n",
       "      <td>NaN</td>\n",
       "      <td>NaN</td>\n",
       "      <td>NaN</td>\n",
       "    </tr>\n",
       "    <tr>\n",
       "      <th>10009input novacea06.csv</th>\n",
       "      <td>NaN</td>\n",
       "      <td>NaN</td>\n",
       "      <td>NaN</td>\n",
       "      <td>NaN</td>\n",
       "      <td>NaN</td>\n",
       "      <td>NaN</td>\n",
       "      <td>NaN</td>\n",
       "      <td>NaN</td>\n",
       "      <td>164.51</td>\n",
       "      <td>NaN</td>\n",
       "      <td>...</td>\n",
       "      <td>NaN</td>\n",
       "      <td>NaN</td>\n",
       "      <td>NaN</td>\n",
       "      <td>NaN</td>\n",
       "      <td>NaN</td>\n",
       "      <td>NaN</td>\n",
       "      <td>NaN</td>\n",
       "      <td>NaN</td>\n",
       "      <td>NaN</td>\n",
       "      <td>NaN</td>\n",
       "    </tr>\n",
       "  </tbody>\n",
       "</table>\n",
       "<p>5 rows × 975 columns</p>\n",
       "</div>"
      ],
      "text/plain": [
       "date                      1.0     2.0     3.0     4.0     5.0     6.0     \\\n",
       "name                                                                       \n",
       "10003input novacea06.csv     NaN     NaN     NaN     NaN     NaN     NaN   \n",
       "10004input novacea06.csv     NaN     NaN     NaN     NaN     NaN   30.79   \n",
       "10005input novacea06.csv     NaN     NaN     NaN     NaN     NaN     NaN   \n",
       "10008input novacea06.csv     NaN     NaN     NaN     NaN     NaN     NaN   \n",
       "10009input novacea06.csv     NaN     NaN     NaN     NaN     NaN     NaN   \n",
       "\n",
       "date                      7.0     8.0     9.0     10.0    ...  1267.0  1287.0  \\\n",
       "name                                                      ...                   \n",
       "10003input novacea06.csv     NaN     NaN     NaN     NaN  ...     NaN     NaN   \n",
       "10004input novacea06.csv     NaN     NaN     NaN     NaN  ...     NaN     NaN   \n",
       "10005input novacea06.csv     NaN     NaN     NaN     NaN  ...     NaN     NaN   \n",
       "10008input novacea06.csv     NaN     NaN     NaN     NaN  ...     NaN     NaN   \n",
       "10009input novacea06.csv     NaN     NaN  164.51     NaN  ...     NaN     NaN   \n",
       "\n",
       "date                      1298.0  1313.0  1321.0  1337.0  1349.0  1354.0  \\\n",
       "name                                                                       \n",
       "10003input novacea06.csv     NaN     NaN     NaN     NaN     NaN     NaN   \n",
       "10004input novacea06.csv     NaN     NaN     NaN     NaN     NaN     NaN   \n",
       "10005input novacea06.csv     NaN     NaN     NaN     NaN     NaN     NaN   \n",
       "10008input novacea06.csv     NaN     NaN     NaN     NaN     NaN     NaN   \n",
       "10009input novacea06.csv     NaN     NaN     NaN     NaN     NaN     NaN   \n",
       "\n",
       "date                      1411.0  1475.0  \n",
       "name                                      \n",
       "10003input novacea06.csv     NaN     NaN  \n",
       "10004input novacea06.csv     NaN     NaN  \n",
       "10005input novacea06.csv     NaN     NaN  \n",
       "10008input novacea06.csv     NaN     NaN  \n",
       "10009input novacea06.csv     NaN     NaN  \n",
       "\n",
       "[5 rows x 975 columns]"
      ]
     },
     "execution_count": 8,
     "metadata": {},
     "output_type": "execute_result"
    }
   ],
   "source": [
    "df_wide.head()"
   ]
  },
  {
   "cell_type": "code",
   "execution_count": 9,
   "id": "f1a253c2",
   "metadata": {},
   "outputs": [
    {
     "data": {
      "text/plain": [
       "array([ True,  True,  True,  True,  True,  True,  True,  True,  True,\n",
       "        True,  True,  True,  True,  True,  True,  True,  True,  True,\n",
       "        True,  True,  True,  True,  True,  True,  True,  True,  True,\n",
       "        True,  True,  True,  True,  True,  True,  True,  True,  True,\n",
       "        True,  True,  True,  True,  True,  True,  True,  True,  True,\n",
       "        True,  True,  True,  True,  True,  True,  True,  True,  True,\n",
       "        True,  True,  True,  True,  True,  True,  True,  True,  True,\n",
       "        True,  True,  True,  True,  True,  True,  True,  True,  True,\n",
       "        True,  True,  True,  True,  True,  True,  True,  True,  True,\n",
       "        True,  True,  True,  True,  True,  True,  True,  True,  True,\n",
       "        True,  True,  True,  True,  True,  True,  True,  True,  True,\n",
       "        True,  True,  True,  True,  True,  True,  True,  True,  True,\n",
       "        True,  True,  True,  True,  True,  True,  True,  True,  True,\n",
       "        True,  True,  True,  True,  True,  True,  True,  True,  True,\n",
       "        True,  True,  True,  True,  True,  True,  True,  True,  True,\n",
       "        True,  True,  True,  True,  True,  True,  True,  True,  True,\n",
       "        True,  True,  True,  True,  True,  True,  True,  True,  True,\n",
       "        True,  True,  True,  True,  True,  True,  True,  True,  True,\n",
       "        True,  True,  True,  True,  True,  True,  True,  True,  True,\n",
       "        True,  True,  True,  True,  True,  True,  True,  True,  True,\n",
       "        True,  True,  True,  True,  True,  True,  True,  True,  True,\n",
       "        True,  True,  True,  True,  True,  True,  True,  True,  True,\n",
       "        True,  True,  True,  True,  True,  True,  True,  True,  True,\n",
       "        True,  True,  True,  True,  True,  True,  True,  True,  True,\n",
       "        True,  True,  True,  True,  True,  True,  True,  True,  True,\n",
       "        True,  True,  True,  True,  True,  True,  True,  True,  True,\n",
       "        True,  True,  True,  True,  True,  True,  True,  True,  True,\n",
       "        True,  True,  True,  True,  True,  True,  True,  True,  True,\n",
       "        True,  True,  True,  True,  True,  True,  True,  True,  True,\n",
       "        True,  True,  True,  True,  True,  True,  True,  True,  True,\n",
       "        True,  True,  True,  True,  True,  True,  True,  True,  True,\n",
       "        True,  True,  True,  True,  True,  True,  True,  True,  True,\n",
       "        True,  True,  True,  True,  True,  True,  True,  True,  True,\n",
       "        True,  True,  True,  True,  True,  True,  True,  True,  True,\n",
       "        True,  True,  True,  True,  True,  True,  True,  True,  True,\n",
       "        True,  True,  True,  True,  True,  True,  True,  True,  True,\n",
       "        True,  True,  True,  True,  True,  True,  True,  True,  True,\n",
       "        True,  True,  True,  True,  True,  True,  True,  True,  True,\n",
       "        True,  True,  True,  True,  True,  True,  True,  True,  True,\n",
       "        True,  True,  True,  True,  True,  True,  True,  True,  True,\n",
       "        True,  True,  True,  True,  True])"
      ]
     },
     "execution_count": 9,
     "metadata": {},
     "output_type": "execute_result"
    }
   ],
   "source": [
    "(df_wide.isnull().sum(axis=0) < (3216 - 2)).values[:365]"
   ]
  },
  {
   "cell_type": "code",
   "execution_count": 10,
   "id": "953be527",
   "metadata": {},
   "outputs": [
    {
     "data": {
      "text/plain": [
       "(3216, 365)"
      ]
     },
     "execution_count": 10,
     "metadata": {},
     "output_type": "execute_result"
    }
   ],
   "source": [
    "mat_wide = df_wide.values[:, :365].copy()\n",
    "mat_wide.shape"
   ]
  },
  {
   "cell_type": "code",
   "execution_count": 11,
   "id": "46e12805",
   "metadata": {},
   "outputs": [
    {
     "data": {
      "text/plain": [
       "(3216, 365)"
      ]
     },
     "execution_count": 11,
     "metadata": {},
     "output_type": "execute_result"
    }
   ],
   "source": [
    "mat_wide.shape"
   ]
  },
  {
   "cell_type": "code",
   "execution_count": 12,
   "id": "64e1e3e1",
   "metadata": {},
   "outputs": [
    {
     "data": {
      "text/plain": [
       "599"
      ]
     },
     "execution_count": 12,
     "metadata": {},
     "output_type": "execute_result"
    }
   ],
   "source": [
    "((365 - np.sum(np.isnan(mat_wide), axis=1)) > 10).sum()"
   ]
  },
  {
   "cell_type": "code",
   "execution_count": 13,
   "id": "03e7c78d",
   "metadata": {},
   "outputs": [],
   "source": [
    "mat_small = mat_wide[((365 - np.sum(np.isnan(mat_wide), axis=1)) > 10)]"
   ]
  },
  {
   "cell_type": "code",
   "execution_count": 14,
   "id": "fed7d49b",
   "metadata": {},
   "outputs": [
    {
     "data": {
      "text/plain": [
       "(599, 365)"
      ]
     },
     "execution_count": 14,
     "metadata": {},
     "output_type": "execute_result"
    }
   ],
   "source": [
    "mat_small.shape"
   ]
  },
  {
   "cell_type": "code",
   "execution_count": 25,
   "id": "045d5bc7",
   "metadata": {},
   "outputs": [
    {
     "data": {
      "text/plain": [
       "[<matplotlib.lines.Line2D at 0x282fe3d17f0>]"
      ]
     },
     "execution_count": 25,
     "metadata": {},
     "output_type": "execute_result"
    },
    {
     "data": {
      "image/png": "[encoded data removed]",
      "text/plain": [
       "<Figure size 640x480 with 1 Axes>"
      ]
     },
     "metadata": {},
     "output_type": "display_data"
    }
   ],
   "source": [
    "plt.plot(mat_small[10], \"o\")"
   ]
  },
  {
   "cell_type": "code",
   "execution_count": 26,
   "id": "91d6b2a5",
   "metadata": {},
   "outputs": [],
   "source": [
    "## scipy cubic spline interpolate\n",
    "\n",
    "interp_list = []\n",
    "for i in range(mat_small.shape[0]):\n",
    "\n",
    "    row = mat_small[i]\n",
    "    ind = np.where(~np.isnan(row))[0]\n",
    "    val = row[~np.isnan(row)]\n",
    "\n",
    "    #     cs = CubicSpline(ind, val, axis=0, bc_type='natural', extrapolate=None)\n",
    "    cs = interp1d(ind, val, axis=0, kind=\"linear\", fill_value=\"extrapolate\")\n",
    "\n",
    "    y_interp = cs(np.arange(mat_small.shape[1]))\n",
    "    interp_list.append(y_interp)"
   ]
  },
  {
   "cell_type": "code",
   "execution_count": 27,
   "id": "0ed66f27",
   "metadata": {},
   "outputs": [
    {
     "data": {
      "text/plain": [
       "(599, 365)"
      ]
     },
     "execution_count": 27,
     "metadata": {},
     "output_type": "execute_result"
    }
   ],
   "source": [
    "y_interp = np.stack(interp_list, axis=0)\n",
    "y_interp.shape"
   ]
  },
  {
   "cell_type": "code",
   "execution_count": 28,
   "id": "4bfdc76d",
   "metadata": {},
   "outputs": [
    {
     "data": {
      "text/plain": [
       "0"
      ]
     },
     "execution_count": 28,
     "metadata": {},
     "output_type": "execute_result"
    }
   ],
   "source": [
    "np.isnan(y_interp).sum()"
   ]
  },
  {
   "cell_type": "code",
   "execution_count": 78,
   "id": "a9a75819",
   "metadata": {},
   "outputs": [],
   "source": [
    "# interpolate\n",
    "# normalize\n",
    "# cluster\n",
    "\n",
    "\n",
    "\n",
    "y_interp_normalized = y_interp / y_interp[:, 0][:, None]\n",
    "\n",
    "# Numpy generator\n",
    "gen = np.random.default_rng(0)\n",
    "\n",
    "y_interp_normalized *= gen.uniform(1,2, size=y_interp_normalized.shape[0]).reshape(-1,1)"
   ]
  },
  {
   "cell_type": "code",
   "execution_count": 79,
   "id": "b4ef80fb",
   "metadata": {},
   "outputs": [
    {
     "data": {
      "text/plain": [
       "(599, 365)"
      ]
     },
     "execution_count": 79,
     "metadata": {},
     "output_type": "execute_result"
    }
   ],
   "source": [
    "y_interp_normalized.shape"
   ]
  },
  {
   "cell_type": "code",
   "execution_count": 80,
   "id": "5939fc8c",
   "metadata": {},
   "outputs": [],
   "source": [
    "inds = [\n",
    "    0,\n",
    "    1,\n",
    "    2,\n",
    "    9,\n",
    "    10,\n",
    "    12,\n",
    "    13,\n",
    "    16,\n",
    "    20,\n",
    "    23,\n",
    "    24,\n",
    "    31,\n",
    "    35,\n",
    "    39,\n",
    "    41,\n",
    "    42,\n",
    "    52,\n",
    "    54,\n",
    "    59,\n",
    "    61,\n",
    "    63,\n",
    "    65,\n",
    "    67,\n",
    "    69,\n",
    "    72,\n",
    "    73,\n",
    "    75,\n",
    "    78,\n",
    "    81,\n",
    "    82,\n",
    "    83,\n",
    "    84,\n",
    "    87,\n",
    "    88,\n",
    "    91,\n",
    "    92,\n",
    "    93,\n",
    "    95,\n",
    "    99,\n",
    "    101,\n",
    "    103,\n",
    "    104,\n",
    "    106,\n",
    "    108,\n",
    "    112,\n",
    "    114,\n",
    "    115,\n",
    "    116,\n",
    "    117,\n",
    "    125,\n",
    "    126,\n",
    "    129,\n",
    "    130,\n",
    "    132,\n",
    "    133,\n",
    "    134,\n",
    "    138,\n",
    "    139,\n",
    "    141,\n",
    "    143,\n",
    "    144,\n",
    "    145,\n",
    "    146,\n",
    "    147,\n",
    "    148,\n",
    "    150,\n",
    "    154,\n",
    "    156,\n",
    "    157,\n",
    "    159,\n",
    "    162,\n",
    "    165,\n",
    "    166,\n",
    "    167,\n",
    "    168,\n",
    "    170,\n",
    "    175,\n",
    "    176,\n",
    "    178,\n",
    "    179,\n",
    "    182,\n",
    "    187,\n",
    "    190,\n",
    "    191,\n",
    "    192,\n",
    "    199,\n",
    "    202,\n",
    "    204,\n",
    "    211,\n",
    "    213,\n",
    "    214,\n",
    "    216,\n",
    "    217,\n",
    "    218,\n",
    "    219,\n",
    "    223,\n",
    "    224,\n",
    "    225,\n",
    "    226,\n",
    "    227,\n",
    "    228,\n",
    "    229,\n",
    "    230,\n",
    "    233,\n",
    "    235,\n",
    "    239,\n",
    "    241,\n",
    "    244,\n",
    "    245,\n",
    "    247,\n",
    "    250,\n",
    "    252,\n",
    "    254,\n",
    "    256,\n",
    "    257,\n",
    "    258,\n",
    "    260,\n",
    "    262,\n",
    "    264,\n",
    "    265,\n",
    "    266,\n",
    "    268,\n",
    "    269,\n",
    "    270,\n",
    "    272,\n",
    "    275,\n",
    "    276,\n",
    "    277,\n",
    "    278,\n",
    "    279,\n",
    "    280,\n",
    "    281,\n",
    "    282,\n",
    "    284,\n",
    "    286,\n",
    "    289,\n",
    "    290,\n",
    "    291,\n",
    "    295,\n",
    "    297,\n",
    "    299,\n",
    "    301,\n",
    "    303,\n",
    "    305,\n",
    "    306,\n",
    "    307,\n",
    "    308,\n",
    "    312,\n",
    "    315,\n",
    "    316,\n",
    "    317,\n",
    "    321,\n",
    "    322,\n",
    "    323,\n",
    "    325,\n",
    "    326,\n",
    "    327,\n",
    "    329,\n",
    "    331,\n",
    "    333,\n",
    "    334,\n",
    "    340,\n",
    "    346,\n",
    "    347,\n",
    "    348,\n",
    "    351,\n",
    "    352,\n",
    "    357,\n",
    "    359,\n",
    "    365,\n",
    "    366,\n",
    "    367,\n",
    "    368,\n",
    "    369,\n",
    "    370,\n",
    "    371,\n",
    "    372,\n",
    "    374,\n",
    "    376,\n",
    "    377,\n",
    "    378,\n",
    "    379,\n",
    "    380,\n",
    "    383,\n",
    "    384,\n",
    "    385,\n",
    "    386,\n",
    "    387,\n",
    "    388,\n",
    "    389,\n",
    "    390,\n",
    "    393,\n",
    "    394,\n",
    "    395,\n",
    "    396,\n",
    "    397,\n",
    "    399,\n",
    "    401,\n",
    "    405,\n",
    "    407,\n",
    "    410,\n",
    "    412,\n",
    "    413,\n",
    "    417,\n",
    "    421,\n",
    "    422,\n",
    "    425,\n",
    "    427,\n",
    "    430,\n",
    "    431,\n",
    "    432,\n",
    "    435,\n",
    "    439,\n",
    "    441,\n",
    "    442,\n",
    "    445,\n",
    "    446,\n",
    "    447,\n",
    "    450,\n",
    "    452,\n",
    "    454,\n",
    "    455,\n",
    "    456,\n",
    "    457,\n",
    "    458,\n",
    "    459,\n",
    "    460,\n",
    "    461,\n",
    "    462,\n",
    "    463,\n",
    "    465,\n",
    "    466,\n",
    "    469,\n",
    "    470,\n",
    "    473,\n",
    "    474,\n",
    "    475,\n",
    "    479,\n",
    "    484,\n",
    "    485,\n",
    "    486,\n",
    "    488,\n",
    "    489,\n",
    "    490,\n",
    "    491,\n",
    "    492,\n",
    "    494,\n",
    "    496,\n",
    "    497,\n",
    "    500,\n",
    "    502,\n",
    "    503,\n",
    "    504,\n",
    "    505,\n",
    "    509,\n",
    "    510,\n",
    "    512,\n",
    "    513,\n",
    "    514,\n",
    "    515,\n",
    "    516,\n",
    "    517,\n",
    "    518,\n",
    "    519,\n",
    "    520,\n",
    "    523,\n",
    "    524,\n",
    "    525,\n",
    "    526,\n",
    "    528,\n",
    "    529,\n",
    "    531,\n",
    "    534,\n",
    "    535,\n",
    "    536,\n",
    "    537,\n",
    "    539,\n",
    "    540,\n",
    "    541,\n",
    "    542,\n",
    "    543,\n",
    "    544,\n",
    "    545,\n",
    "    546,\n",
    "    547,\n",
    "    550,\n",
    "    552,\n",
    "    553,\n",
    "    555,\n",
    "    556,\n",
    "    557,\n",
    "    559,\n",
    "    561,\n",
    "    563,\n",
    "    564,\n",
    "    568,\n",
    "    569,\n",
    "    570,\n",
    "    576,\n",
    "    578,\n",
    "    580,\n",
    "    581,\n",
    "    582,\n",
    "    583,\n",
    "    585,\n",
    "    586,\n",
    "    588,\n",
    "    593,\n",
    "    594,\n",
    "    597,\n",
    "]"
   ]
  },
  {
   "cell_type": "code",
   "execution_count": 81,
   "id": "5f6fdbaf",
   "metadata": {},
   "outputs": [],
   "source": [
    "y_c1 = y_interp_normalized[inds]"
   ]
  },
  {
   "cell_type": "code",
   "execution_count": 85,
   "id": "4e4bd5fe",
   "metadata": {},
   "outputs": [
    {
     "data": {
      "text/plain": [
       "[<matplotlib.lines.Line2D at 0x282886ea270>]"
      ]
     },
     "execution_count": 85,
     "metadata": {},
     "output_type": "execute_result"
    },
    {
     "data": {
      "image/png": "[encoded data removed]",
      "text/plain": [
       "<Figure size 640x480 with 1 Axes>"
      ]
     },
     "metadata": {},
     "output_type": "display_data"
    }
   ],
   "source": [
    "plt.plot(y_c1[7].T)"
   ]
  },
  {
   "cell_type": "code",
   "execution_count": 96,
   "id": "6f855448",
   "metadata": {},
   "outputs": [],
   "source": [
    "# Sample 20 measurement\n",
    "measurement_indices = np.linspace(0,364,20).astype(int)"
   ]
  },
  {
   "cell_type": "code",
   "execution_count": 97,
   "id": "1df65475",
   "metadata": {},
   "outputs": [
    {
     "data": {
      "text/plain": [
       "array([  0,  19,  38,  57,  76,  95, 114, 134, 153, 172, 191, 210, 229,\n",
       "       249, 268, 287, 306, 325, 344, 364])"
      ]
     },
     "execution_count": 97,
     "metadata": {},
     "output_type": "execute_result"
    }
   ],
   "source": [
    "measurement_indices"
   ]
  },
  {
   "cell_type": "code",
   "execution_count": 98,
   "id": "7f585184",
   "metadata": {},
   "outputs": [],
   "source": [
    "y_final = y_c1[:, measurement_indices]"
   ]
  },
  {
   "cell_type": "code",
   "execution_count": 99,
   "id": "4281d3a7",
   "metadata": {},
   "outputs": [
    {
     "data": {
      "text/plain": [
       "(310, 20)"
      ]
     },
     "execution_count": 99,
     "metadata": {},
     "output_type": "execute_result"
    }
   ],
   "source": [
    "y_final.shape"
   ]
  },
  {
   "cell_type": "code",
   "execution_count": 104,
   "id": "49f7b0fc",
   "metadata": {},
   "outputs": [],
   "source": [
    "ts = np.tile(measurement_indices, (y_final.shape[0],1))"
   ]
  },
  {
   "cell_type": "code",
   "execution_count": 106,
   "id": "064e1571",
   "metadata": {},
   "outputs": [
    {
     "data": {
      "text/plain": [
       "(310, 20)"
      ]
     },
     "execution_count": 106,
     "metadata": {},
     "output_type": "execute_result"
    }
   ],
   "source": [
    "ts.shape"
   ]
  },
  {
   "cell_type": "code",
   "execution_count": 113,
   "id": "8f885885",
   "metadata": {},
   "outputs": [],
   "source": [
    "ts = ts/365"
   ]
  },
  {
   "cell_type": "code",
   "execution_count": 107,
   "id": "fa6d7138",
   "metadata": {},
   "outputs": [],
   "source": [
    "x0 = y_final[:,[0]]"
   ]
  },
  {
   "cell_type": "code",
   "execution_count": 109,
   "id": "f3a15e3b",
   "metadata": {},
   "outputs": [
    {
     "data": {
      "text/plain": [
       "(310, 1)"
      ]
     },
     "execution_count": 109,
     "metadata": {},
     "output_type": "execute_result"
    }
   ],
   "source": [
    "x0.shape"
   ]
  },
  {
   "cell_type": "code",
   "execution_count": 114,
   "id": "2e91cca9",
   "metadata": {},
   "outputs": [
    {
     "data": {
      "text/plain": [
       "array([[0.        , 0.05205479, 0.10410959, ..., 0.89041096, 0.94246575,\n",
       "        0.99726027],\n",
       "       [0.        , 0.05205479, 0.10410959, ..., 0.89041096, 0.94246575,\n",
       "        0.99726027],\n",
       "       [0.        , 0.05205479, 0.10410959, ..., 0.89041096, 0.94246575,\n",
       "        0.99726027],\n",
       "       ...,\n",
       "       [0.        , 0.05205479, 0.10410959, ..., 0.89041096, 0.94246575,\n",
       "        0.99726027],\n",
       "       [0.        , 0.05205479, 0.10410959, ..., 0.89041096, 0.94246575,\n",
       "        0.99726027],\n",
       "       [0.        , 0.05205479, 0.10410959, ..., 0.89041096, 0.94246575,\n",
       "        0.99726027]])"
      ]
     },
     "execution_count": 114,
     "metadata": {},
     "output_type": "execute_result"
    }
   ],
   "source": [
    "ts"
   ]
  },
  {
   "cell_type": "code",
   "execution_count": 115,
   "id": "8e971166",
   "metadata": {},
   "outputs": [],
   "source": [
    "dataset = {\n",
    "    \"xs\": x0,\n",
    "    \"ys\": y_final,\n",
    "    \"ts\": ts,\n",
    "}"
   ]
  },
  {
   "cell_type": "code",
   "execution_count": null,
   "id": "1129e2e4",
   "metadata": {},
   "outputs": [],
   "source": [
    "import pickle\n",
    "\n",
    "with open(\"tumor.pkl\", \"wb\") as f:\n",
    "    pickle.dump(dataset, f)"
   ]
  },
  {
   "cell_type": "code",
   "execution_count": null,
   "id": "74d60826",
   "metadata": {},
   "outputs": [],
   "source": []
  }
 ],
 "metadata": {
  "kernelspec": {
   "display_name": "sketch-odes",
   "language": "python",
   "name": "python3"
  },
  "language_info": {
   "codemirror_mode": {
    "name": "ipython",
    "version": 3
   },
   "file_extension": ".py",
   "mimetype": "text/x-python",
   "name": "python",
   "nbconvert_exporter": "python",
   "pygments_lexer": "ipython3",
   "version": "3.12.2"
  }
 },
 "nbformat": 4,
 "nbformat_minor": 5
}
