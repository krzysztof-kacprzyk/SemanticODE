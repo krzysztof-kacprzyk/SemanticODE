{
 "cells": [
  {
   "cell_type": "markdown",
   "metadata": {},
   "source": [
    "# Important!\n",
    "\n",
    "Before running this notebook you need to change line 79 in semantic_odes/model_numpy.py from \"x0 = self.x0\" to \"x0 = 1.0\""
   ]
  },
  {
   "cell_type": "code",
   "execution_count": null,
   "metadata": {},
   "outputs": [],
   "source": [
    "from semantic_odes.api import SemanticODE, BSplineBasisFunctions, create_full_composition_library\n",
    "from semantic_odes.datasets import get_bifurcation_dataset\n",
    "import matplotlib.pyplot as plt\n",
    "import pandas as pd"
   ]
  },
  {
   "cell_type": "code",
   "execution_count": null,
   "metadata": {},
   "outputs": [
    {
     "name": "stdout",
     "output_type": "stream",
     "text": [
      "Global seed: 0\n",
      "Noise std: 1.0\n",
      "{'device': 'cpu', 'n_epochs': 1000, 'batch_size': 256, 'lr': 0.1, 'weight_decay': 0.0001, 'fit_single': True}\n"
     ]
    },
    {
     "name": "stderr",
     "output_type": "stream",
     "text": [
      "100%|██████████| 1000/1000 [00:20<00:00, 48.69it/s]\n"
     ]
    },
    {
     "name": "stdout",
     "output_type": "stream",
     "text": [
      "1.015015015015015\n",
      "Noise std: 1.5\n",
      "{'device': 'cpu', 'n_epochs': 1000, 'batch_size': 256, 'lr': 0.1, 'weight_decay': 0.0001, 'fit_single': True}\n"
     ]
    },
    {
     "name": "stderr",
     "output_type": "stream",
     "text": [
      "100%|██████████| 1000/1000 [00:23<00:00, 42.02it/s]\n"
     ]
    },
    {
     "name": "stdout",
     "output_type": "stream",
     "text": [
      "1.015015015015015\n",
      "Noise std: 2.0\n",
      "{'device': 'cpu', 'n_epochs': 1000, 'batch_size': 256, 'lr': 0.1, 'weight_decay': 0.0001, 'fit_single': True}\n"
     ]
    },
    {
     "name": "stderr",
     "output_type": "stream",
     "text": [
      "100%|██████████| 1000/1000 [00:24<00:00, 40.19it/s]\n"
     ]
    },
    {
     "name": "stdout",
     "output_type": "stream",
     "text": [
      "1.015015015015015\n",
      "Global seed: 1\n",
      "Noise std: 1.0\n",
      "{'device': 'cpu', 'n_epochs': 1000, 'batch_size': 256, 'lr': 0.1, 'weight_decay': 0.0001, 'fit_single': True}\n"
     ]
    },
    {
     "name": "stderr",
     "output_type": "stream",
     "text": [
      "100%|██████████| 1000/1000 [00:25<00:00, 39.77it/s]\n"
     ]
    },
    {
     "name": "stdout",
     "output_type": "stream",
     "text": [
      "1.0780780780780779\n",
      "Noise std: 1.5\n",
      "{'device': 'cpu', 'n_epochs': 1000, 'batch_size': 256, 'lr': 0.1, 'weight_decay': 0.0001, 'fit_single': True}\n"
     ]
    },
    {
     "name": "stderr",
     "output_type": "stream",
     "text": [
      "100%|██████████| 1000/1000 [00:23<00:00, 41.67it/s]\n"
     ]
    },
    {
     "name": "stdout",
     "output_type": "stream",
     "text": [
      "1.0930930930930929\n",
      "Noise std: 2.0\n",
      "{'device': 'cpu', 'n_epochs': 1000, 'batch_size': 256, 'lr': 0.1, 'weight_decay': 0.0001, 'fit_single': True}\n"
     ]
    },
    {
     "name": "stderr",
     "output_type": "stream",
     "text": [
      "100%|██████████| 1000/1000 [00:24<00:00, 41.42it/s]\n"
     ]
    },
    {
     "name": "stdout",
     "output_type": "stream",
     "text": [
      "1.0930930930930929\n",
      "Global seed: 2\n",
      "Noise std: 1.0\n",
      "{'device': 'cpu', 'n_epochs': 1000, 'batch_size': 256, 'lr': 0.1, 'weight_decay': 0.0001, 'fit_single': True}\n"
     ]
    },
    {
     "name": "stderr",
     "output_type": "stream",
     "text": [
      "100%|██████████| 1000/1000 [00:23<00:00, 42.79it/s]\n"
     ]
    },
    {
     "name": "stdout",
     "output_type": "stream",
     "text": [
      "1.03003003003003\n",
      "Noise std: 1.5\n",
      "{'device': 'cpu', 'n_epochs': 1000, 'batch_size': 256, 'lr': 0.1, 'weight_decay': 0.0001, 'fit_single': True}\n"
     ]
    },
    {
     "name": "stderr",
     "output_type": "stream",
     "text": [
      "100%|██████████| 1000/1000 [00:24<00:00, 41.30it/s]\n"
     ]
    },
    {
     "name": "stdout",
     "output_type": "stream",
     "text": [
      "1.03003003003003\n",
      "Noise std: 2.0\n",
      "{'device': 'cpu', 'n_epochs': 1000, 'batch_size': 256, 'lr': 0.1, 'weight_decay': 0.0001, 'fit_single': True}\n"
     ]
    },
    {
     "name": "stderr",
     "output_type": "stream",
     "text": [
      "100%|██████████| 1000/1000 [00:24<00:00, 41.25it/s]\n"
     ]
    },
    {
     "name": "stdout",
     "output_type": "stream",
     "text": [
      "1.03003003003003\n",
      "Global seed: 3\n",
      "Noise std: 1.0\n",
      "{'device': 'cpu', 'n_epochs': 1000, 'batch_size': 256, 'lr': 0.1, 'weight_decay': 0.0001, 'fit_single': True}\n"
     ]
    },
    {
     "name": "stderr",
     "output_type": "stream",
     "text": [
      "100%|██████████| 1000/1000 [00:24<00:00, 40.97it/s]\n"
     ]
    },
    {
     "name": "stdout",
     "output_type": "stream",
     "text": [
      "0.9459459459459458\n",
      "Noise std: 1.5\n",
      "{'device': 'cpu', 'n_epochs': 1000, 'batch_size': 256, 'lr': 0.1, 'weight_decay': 0.0001, 'fit_single': True}\n"
     ]
    },
    {
     "name": "stderr",
     "output_type": "stream",
     "text": [
      "100%|██████████| 1000/1000 [00:23<00:00, 41.77it/s]\n"
     ]
    },
    {
     "name": "stdout",
     "output_type": "stream",
     "text": [
      "0.9459459459459458\n",
      "Noise std: 2.0\n",
      "{'device': 'cpu', 'n_epochs': 1000, 'batch_size': 256, 'lr': 0.1, 'weight_decay': 0.0001, 'fit_single': True}\n"
     ]
    },
    {
     "name": "stderr",
     "output_type": "stream",
     "text": [
      "100%|██████████| 1000/1000 [00:23<00:00, 42.06it/s]\n"
     ]
    },
    {
     "name": "stdout",
     "output_type": "stream",
     "text": [
      "0.9459459459459458\n",
      "Global seed: 4\n",
      "Noise std: 1.0\n",
      "{'device': 'cpu', 'n_epochs': 1000, 'batch_size': 256, 'lr': 0.1, 'weight_decay': 0.0001, 'fit_single': True}\n"
     ]
    },
    {
     "name": "stderr",
     "output_type": "stream",
     "text": [
      "100%|██████████| 1000/1000 [00:24<00:00, 40.83it/s]\n"
     ]
    },
    {
     "name": "stdout",
     "output_type": "stream",
     "text": [
      "0.9759759759759759\n",
      "Noise std: 1.5\n",
      "{'device': 'cpu', 'n_epochs': 1000, 'batch_size': 256, 'lr': 0.1, 'weight_decay': 0.0001, 'fit_single': True}\n"
     ]
    },
    {
     "name": "stderr",
     "output_type": "stream",
     "text": [
      "100%|██████████| 1000/1000 [00:25<00:00, 39.94it/s]\n"
     ]
    },
    {
     "name": "stdout",
     "output_type": "stream",
     "text": [
      "0.9759759759759759\n",
      "Noise std: 2.0\n",
      "{'device': 'cpu', 'n_epochs': 1000, 'batch_size': 256, 'lr': 0.1, 'weight_decay': 0.0001, 'fit_single': True}\n"
     ]
    },
    {
     "name": "stderr",
     "output_type": "stream",
     "text": [
      "100%|██████████| 1000/1000 [00:24<00:00, 40.88it/s]\n"
     ]
    },
    {
     "name": "stdout",
     "output_type": "stream",
     "text": [
      "0.9759759759759759\n"
     ]
    }
   ],
   "source": [
    "n_samples = 1000\n",
    "n_measurements = 20\n",
    "\n",
    "results = {\n",
    "    'noise_std': [],\n",
    "    'global_seed': [],\n",
    "    'point': []\n",
    "}\n",
    "\n",
    "for global_seed in [0,1,2,3,4]:\n",
    "    print(f'Global seed: {global_seed}')\n",
    "    for noise_std in [1e-3, 1e-2, 5e-2, 1e-1, 2e-1, 5e-1,1.0, 1.5, 2.0]:\n",
    "        print(f'Noise std: {noise_std}')\n",
    "        dataset = get_bifurcation_dataset(n_samples, n_measurements, noise_std, seed=global_seed)\n",
    "\n",
    "        bspline_basis = BSplineBasisFunctions(n_basis=6, k=3, include_bias=True, include_linear=True)\n",
    "        composition_library =  [['+-h'],['-+h']]\n",
    "        semantic = SemanticODE(t_range=(0,5),\n",
    "                            basis_functions=bspline_basis,\n",
    "                            composition_library=composition_library,\n",
    "                            max_branches=2,\n",
    "                            seed=global_seed)             \n",
    "        X, T, Y = dataset.get_X_T_Y()          \n",
    "        composition_map = semantic.fit_composition_map(X,T,Y)\n",
    "        point = composition_map.composition_map_list[0][0][1]\n",
    "        print(point)\n",
    "        results['noise_std'].append(noise_std)\n",
    "        results['global_seed'].append(global_seed)\n",
    "        results['point'].append(point)\n",
    "\n",
    "df = pd.DataFrame(results)\n",
    "df.to_csv('../results/bifurcation_results.csv', index=False)"
   ]
  },
  {
   "cell_type": "code",
   "execution_count": null,
   "metadata": {},
   "outputs": [],
   "source": [
    "results = pd.read_csv('../results/bifurcation_results.csv')"
   ]
  },
  {
   "cell_type": "code",
   "execution_count": 38,
   "metadata": {},
   "outputs": [],
   "source": [
    "# Transform the column 'point' by subtracting 1 and taking the absolute value\n",
    "results['point'] = abs(results['point'] - 1)"
   ]
  },
  {
   "cell_type": "code",
   "execution_count": null,
   "metadata": {},
   "outputs": [
    {
     "data": {
      "image/png": "[encoded data removed]",
      "text/plain": [
       "<Figure size 1000x600 with 1 Axes>"
      ]
     },
     "metadata": {},
     "output_type": "display_data"
    }
   ],
   "source": [
    "import seaborn as sns\n",
    "\n",
    "# Group by noise_std and calculate mean and standard deviation of 'point'\n",
    "grouped_results = results.groupby('noise_std')['point'].agg(['mean', 'std']).reset_index()\n",
    "\n",
    "# Plot the results\n",
    "plt.figure(figsize=(10, 6))\n",
    "plt.plot(grouped_results['noise_std'], grouped_results['mean'], marker='o', linestyle='-', color='b', label='Mean absolute error on the bifurcation point')\n",
    "plt.fill_between(grouped_results['noise_std'], grouped_results['mean'] - grouped_results['std'], grouped_results['mean'] + grouped_results['std'], color='gray', alpha=0.2)\n",
    "\n",
    "# Label the axes and title\n",
    "plt.xscale('log')\n",
    "plt.xlabel('Noise', fontsize=14)\n",
    "plt.ylabel('Mean absolute error', fontsize=14)\n",
    "plt.grid(True)\n",
    "plt.ylim(0,0.1)\n",
    "plt.savefig('output/Bifurcation identification (Fig 12).pdf')"
   ]
  },
  {
   "cell_type": "code",
   "execution_count": null,
   "metadata": {},
   "outputs": [
    {
     "name": "stdout",
     "output_type": "stream",
     "text": [
      "| Noise Std | Mean Absolute Error (Std) |\n",
      "|-----------|---------------------------|\n",
      "| 0.001 | 0.001 (0.002) |\n",
      "| 0.010 | 0.002 (0.003) |\n",
      "| 0.050 | 0.009 (0.007) |\n",
      "| 0.100 | 0.012 (0.012) |\n",
      "| 0.200 | 0.017 (0.010) |\n",
      "| 0.500 | 0.023 (0.018) |\n",
      "| 1.000 | 0.040 (0.026) |\n",
      "| 1.500 | 0.043 (0.031) |\n",
      "| 2.000 | 0.043 (0.031) |\n",
      "\n"
     ]
    }
   ],
   "source": [
    "# Create a markdown table\n",
    "markdown_table = \"| Noise Std | Mean Absolute Error (Std) |\\n\"\n",
    "markdown_table += \"|-----------|---------------------------|\\n\"\n",
    "\n",
    "for index, row in grouped_results.iterrows():\n",
    "    markdown_table += f\"| {row['noise_std']:.3f} | {row['mean']:.3f} ({row['std']:.3f}) |\\n\"\n",
    "\n",
    "print(markdown_table)\n",
    "\n",
    "# Save the markdown table to a file\n",
    "with open('output/Bifurcation identification table.md', 'w') as f:\n",
    "    f.write(markdown_table)"
   ]
  }
 ],
 "metadata": {
  "kernelspec": {
   "display_name": "sketch-odes",
   "language": "python",
   "name": "python3"
  },
  "language_info": {
   "codemirror_mode": {
    "name": "ipython",
    "version": 3
   },
   "file_extension": ".py",
   "mimetype": "text/x-python",
   "name": "python",
   "nbconvert_exporter": "python",
   "pygments_lexer": "ipython3",
   "version": "3.12.2"
  }
 },
 "nbformat": 4,
 "nbformat_minor": 2
}
